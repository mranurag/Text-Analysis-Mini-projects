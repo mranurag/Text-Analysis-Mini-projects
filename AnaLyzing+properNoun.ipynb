{
 "cells": [
  {
   "cell_type": "code",
   "execution_count": 28,
   "metadata": {
    "collapsed": false
   },
   "outputs": [
    {
     "name": "stdout",
     "output_type": "stream",
     "text": [
      "{'Gujarati': 3, 'BJP': 2, 'Gujarat': 2}\n",
      "['Gujarati', 'Gujarat', 'BJP']\n"
     ]
    }
   ],
   "source": [
    "# input will be a file parsed by lexParser having the desired tags\n",
    "ParsedString = open('C://Parser/output.txt','r').read()\n",
    "splitedText = ParsedString.split(\"(\")\n",
    "d =dict()\n",
    "for word in splitedText:\n",
    "    if word[0:3] =='NNP':\n",
    "        newword = word.split(\")\")\n",
    "        newword = newword[0]\n",
    "        newword = newword[4:]\n",
    "        if newword in d:\n",
    "            d[newword] += 1\n",
    "        else:\n",
    "            d[newword] = 1\n",
    "print d\n",
    "d = sorted(d,reverse=True)\n",
    "\"\"\"returning nouns based on the frequency\"\"\"\n",
    "print d\n",
    "            \n",
    "    "
   ]
  }
 ],
 "metadata": {
  "kernelspec": {
   "display_name": "Python 2",
   "language": "python",
   "name": "python2"
  },
  "language_info": {
   "codemirror_mode": {
    "name": "ipython",
    "version": 2
   },
   "file_extension": ".py",
   "mimetype": "text/x-python",
   "name": "python",
   "nbconvert_exporter": "python",
   "pygments_lexer": "ipython2",
   "version": "2.7.13"
  }
 },
 "nbformat": 4,
 "nbformat_minor": 2
}
