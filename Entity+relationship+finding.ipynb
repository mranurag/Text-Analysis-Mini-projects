{
 "cells": [
  {
   "cell_type": "code",
   "execution_count": 34,
   "metadata": {
    "collapsed": false
   },
   "outputs": [
    {
     "name": "stdout",
     "output_type": "stream",
     "text": [
      "{'Hyderabad': 1, 'Bill': 1, 'KIIT': 1}\n"
     ]
    }
   ],
   "source": [
    "# input will be a file parsed by lexParser having the desired tags\n",
    "ParsedString = open('C://Parser/output.txt','r').read()\n",
    "splitedText = ParsedString.split(\"(\")\n",
    "d =dict()\n",
    "for word in splitedText:\n",
    "    if word[0:3] =='NNP':\n",
    "        newword = word.split(\")\")\n",
    "        newword = newword[0]\n",
    "        newword = newword[4:]\n",
    "        if newword in d:\n",
    "            d[newword] += 1\n",
    "        else:\n",
    "            d[newword] = 1\n",
    "print  d\n",
    "\n",
    "            \n",
    "    "
   ]
  },
  {
   "cell_type": "code",
   "execution_count": 27,
   "metadata": {
    "collapsed": true
   },
   "outputs": [],
   "source": [
    "import pandas as pd\n",
    "data = pd.read_csv(\"D:\\\\CBA\\\\TA\\\\dataset.csv\")\n",
    "ORG = data.ORG\n",
    "GPE = data.GPE\n",
    "PER = data.PER"
   ]
  },
  {
   "cell_type": "code",
   "execution_count": 35,
   "metadata": {
    "collapsed": false
   },
   "outputs": [],
   "source": [
    "resdic = dict()\n",
    "for k in d:\n",
    "    if k in ORG:\n",
    "        resdic[k]=\"ORG\"\n",
    "    elif k in GPE:\n",
    "        resdic[k]=\"GPE\"\n",
    "    else:\n",
    "        resdic[k]=\"PER\"\n",
    "        \n"
   ]
  },
  {
   "cell_type": "code",
   "execution_count": 36,
   "metadata": {
    "collapsed": false
   },
   "outputs": [
    {
     "name": "stdout",
     "output_type": "stream",
     "text": [
      "{'Hyderabad': 'GPE', 'Bill': 'PER', 'KIIT': 'ORG'}\n"
     ]
    }
   ],
   "source": [
    "print resdic"
   ]
  }
 ],
 "metadata": {
  "kernelspec": {
   "display_name": "Python 2",
   "language": "python",
   "name": "python2"
  },
  "language_info": {
   "codemirror_mode": {
    "name": "ipython",
    "version": 2
   },
   "file_extension": ".py",
   "mimetype": "text/x-python",
   "name": "python",
   "nbconvert_exporter": "python",
   "pygments_lexer": "ipython2",
   "version": "2.7.13"
  }
 },
 "nbformat": 4,
 "nbformat_minor": 2
}
